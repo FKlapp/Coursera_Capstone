{
 "cells": [
  {
   "cell_type": "markdown",
   "metadata": {},
   "source": [
    "<h1> Assignment (Week 4) Capstone Project #SoBerlin </h1><br><br>\n",
    "<h1> The story </h1>"
   ]
  },
  {
   "cell_type": "markdown",
   "metadata": {},
   "source": [
    "<h3> Ever been to Berlin? </h3>\n",
    "<br>\n",
    "If yes - you might have heard someone saying \"omg thats so Berlin\" <br>\n",
    "<br>\n",
    "It actually somewhat became a meme. However - what does it even mean to be \"so Berlin\" <br>\n",
    "Is there any other city in Germany which is \"so (like) Berlin\"? <br>\n",
    "<br> The main question here is: If you need or want to relocate within Germany where would you go?\n",
    "<br> Many cities in Germany lack a strong reputation or suffer from stereotypes regarding their boringness.\n",
    "<br> Therefore they might not attract students or young talents\n",
    "<br> In order to make choosing a city easier or to allow for strategic marketing, \n",
    "<br> we want to know, which cities really resemble each other in terms of nightlife, rental prices and potential earnings \n",
    "<br> and therefore in their attractiveness to young adults \n",
    "<br>\n",
    "<br> Using a cluster analysis, I’d like to make it easier to compare different cities, so that young people get \n",
    "<br> an easier impression whether less famous cities (e.g. Essen, Hanover, Nuremburg) in Germany \n",
    "<br> could be attractive compared to big established cities such as Berlin or Munich.  \n",
    "<br>\n",
    "<br> Hence, I decided to use: \n",
    "<br> a) The average Income\n",
    "<br> b) The average Rental Prices \n",
    "<br> c) A foursquare Profile of possible activities for the night \n",
    "<br> <br>\n",
    "To find clusters of German cities exceeding 500.000 inhabitants\n",
    "<br>"
   ]
  },
  {
   "cell_type": "code",
   "execution_count": 74,
   "metadata": {},
   "outputs": [],
   "source": [
    "# Loading dependencies\n",
    "from bs4 import BeautifulSoup # Used for wiki-scraping\n",
    "\n",
    "import numpy as np # library to handle data in a vectorized manner\n",
    "import requests\n",
    "\n",
    "import pandas as pd # library for data analsysis\n",
    "pd.set_option('display.max_columns', None)\n",
    "pd.set_option('display.max_rows', None)\n",
    "\n",
    "import json # library to handle JSON files\n",
    "\n",
    "from geopy.geocoders import Nominatim # convert an address into latitude and longitude values\n",
    "\n",
    "import requests # library to handle requests\n",
    "from pandas.io.json import json_normalize # tranform JSON file into a pandas dataframe\n",
    "\n",
    "# Matplotlib and associated plotting modules\n",
    "import matplotlib.cm as cm\n",
    "import matplotlib.colors as colors\n",
    "\n",
    "# import k-means from clustering stage\n",
    "from sklearn.cluster import KMeans\n",
    "\n",
    "import folium # map rendering library"
   ]
  },
  {
   "cell_type": "markdown",
   "metadata": {},
   "source": [
    "<h2> Preparation </h2>\n",
    "<br> Extracting the name of all German Cities with more than 500.000 Inhabitants with their respective Size"
   ]
  },
  {
   "cell_type": "code",
   "execution_count": 75,
   "metadata": {
    "tags": [
     "outputPrepend"
    ]
   },
   "outputs": [],
   "source": [
    "# Loading the names of \"Groß und Mittelstädte\"-Table from Wikipedia to find the 700 Cities with > 20.000 Inhabitants\n",
    "wiki_url = 'https://de.wikipedia.org/wiki/Liste_der_Gro%C3%9F-_und_Mittelst%C3%A4dte_in_Deutschland'\n",
    "wiki = requests.get(wiki_url).text\n",
    "html_soup=BeautifulSoup(wiki,'html.parser')\n",
    "sov_tables = html_soup.find_all('table', class_=\"wikitable sortable zebra\")\n",
    "df = pd.read_html(str(sov_tables[1]))\n",
    "df = df[0]"
   ]
  },
  {
   "cell_type": "code",
   "execution_count": 76,
   "metadata": {},
   "outputs": [],
   "source": [
    "# Additional Cleaning: Remove the dots, to facilitate a change of data type then Change no of inhabitants to a float type\n",
    "df['2018'] = df['2018'].str.replace('.','')\n",
    "df['2018'] = pd.to_numeric(df['2018'], errors='coerce')"
   ]
  },
  {
   "cell_type": "code",
   "execution_count": 77,
   "metadata": {},
   "outputs": [],
   "source": [
    "# Remove Cities with less then 500.000 Inhabitants and columns which aren't needed\n",
    "df=df[df['2018'] > 500000]\n",
    "df.drop(['Rang','1970','1980','1990','2000','2010','Bundesland'],axis=1, inplace=True)"
   ]
  },
  {
   "cell_type": "markdown",
   "metadata": {},
   "source": [
    "<h3> Done... Extracted all the Names of German Cities with more than 500 000 Inhabitants"
   ]
  },
  {
   "cell_type": "code",
   "execution_count": 78,
   "metadata": {},
   "outputs": [
    {
     "output_type": "execute_result",
     "data": {
      "text/plain": "                Stadt     Size\n0              Berlin  3644826\n1             Hamburg  1841179\n2             München  1471508\n3                Köln  1085664\n4   Frankfurt am Main   753056\n5           Stuttgart   634830\n6          Düsseldorf   619294\n7             Leipzig   587857\n8            Dortmund   587010\n9               Essen   583109\n10             Bremen   569352\n11            Dresden   554649\n12           Hannover   538068\n13           Nürnberg   518365",
      "text/html": "<div>\n<style scoped>\n    .dataframe tbody tr th:only-of-type {\n        vertical-align: middle;\n    }\n\n    .dataframe tbody tr th {\n        vertical-align: top;\n    }\n\n    .dataframe thead th {\n        text-align: right;\n    }\n</style>\n<table border=\"1\" class=\"dataframe\">\n  <thead>\n    <tr style=\"text-align: right;\">\n      <th></th>\n      <th>Stadt</th>\n      <th>Size</th>\n    </tr>\n  </thead>\n  <tbody>\n    <tr>\n      <th>0</th>\n      <td>Berlin</td>\n      <td>3644826</td>\n    </tr>\n    <tr>\n      <th>1</th>\n      <td>Hamburg</td>\n      <td>1841179</td>\n    </tr>\n    <tr>\n      <th>2</th>\n      <td>München</td>\n      <td>1471508</td>\n    </tr>\n    <tr>\n      <th>3</th>\n      <td>Köln</td>\n      <td>1085664</td>\n    </tr>\n    <tr>\n      <th>4</th>\n      <td>Frankfurt am Main</td>\n      <td>753056</td>\n    </tr>\n    <tr>\n      <th>5</th>\n      <td>Stuttgart</td>\n      <td>634830</td>\n    </tr>\n    <tr>\n      <th>6</th>\n      <td>Düsseldorf</td>\n      <td>619294</td>\n    </tr>\n    <tr>\n      <th>7</th>\n      <td>Leipzig</td>\n      <td>587857</td>\n    </tr>\n    <tr>\n      <th>8</th>\n      <td>Dortmund</td>\n      <td>587010</td>\n    </tr>\n    <tr>\n      <th>9</th>\n      <td>Essen</td>\n      <td>583109</td>\n    </tr>\n    <tr>\n      <th>10</th>\n      <td>Bremen</td>\n      <td>569352</td>\n    </tr>\n    <tr>\n      <th>11</th>\n      <td>Dresden</td>\n      <td>554649</td>\n    </tr>\n    <tr>\n      <th>12</th>\n      <td>Hannover</td>\n      <td>538068</td>\n    </tr>\n    <tr>\n      <th>13</th>\n      <td>Nürnberg</td>\n      <td>518365</td>\n    </tr>\n  </tbody>\n</table>\n</div>"
     },
     "metadata": {},
     "execution_count": 78
    }
   ],
   "source": [
    "# Check new data frame\n",
    "df.columns = ['Stadt','Size']\n",
    "df"
   ]
  },
  {
   "cell_type": "markdown",
   "metadata": {},
   "source": [
    "<h2> Extract additional non-foursquare data </h2>"
   ]
  },
  {
   "cell_type": "code",
   "execution_count": 79,
   "metadata": {},
   "outputs": [
    {
     "output_type": "execute_result",
     "data": {
      "text/plain": "'2019_Mietpreise (4).csv'"
     },
     "metadata": {},
     "execution_count": 79
    }
   ],
   "source": [
    "import wget\n",
    "\n",
    "url = 'https://github.com/FKlapp/Coursera_Capstone/raw/master/2016_Einkommen_Top15.csv'\n",
    "url2 = 'https://github.com/FKlapp/Coursera_Capstone/raw/master/2019_Mietpreise.csv'\n",
    "wget.download(url, '2016_Einkommen_Top15.csv')\n",
    "wget.download(url2, '2019_Mietpreise.csv')"
   ]
  },
  {
   "cell_type": "code",
   "execution_count": 80,
   "metadata": {},
   "outputs": [],
   "source": [
    "# Load Income-Table and align way of writing Frankfurt \n",
    "Income_Table = pd.read_csv('2016_Einkommen_Top15.csv',sep=';',encoding='latin1')\n",
    "Income_Table.replace({'Frankfurt': 'Frankfurt am Main'},inplace=True)"
   ]
  },
  {
   "cell_type": "code",
   "execution_count": 81,
   "metadata": {},
   "outputs": [
    {
     "output_type": "execute_result",
     "data": {
      "text/plain": "                Stadt  Mietpreis H1 2019 in Euro/m²\n0              Berlin                          11.6\n1             München                          18.6\n2            Nürnberg                          10.0\n3            Hannover                           8.8\n4           Stuttgart                          13.0\n5   Frankfurt am Main                          14.2\n6             Hamburg                          11.8\n7             Leipzig                           6.8\n8          Düsseldorf                          10.6\n9             Dresden                           7.6\n10               Köln                          10.9\n11           Dortmund                           7.0\n12             Bremen                           8.2\n13              Essen                           7.0",
      "text/html": "<div>\n<style scoped>\n    .dataframe tbody tr th:only-of-type {\n        vertical-align: middle;\n    }\n\n    .dataframe tbody tr th {\n        vertical-align: top;\n    }\n\n    .dataframe thead th {\n        text-align: right;\n    }\n</style>\n<table border=\"1\" class=\"dataframe\">\n  <thead>\n    <tr style=\"text-align: right;\">\n      <th></th>\n      <th>Stadt</th>\n      <th>Mietpreis H1 2019 in Euro/m²</th>\n    </tr>\n  </thead>\n  <tbody>\n    <tr>\n      <th>0</th>\n      <td>Berlin</td>\n      <td>11.6</td>\n    </tr>\n    <tr>\n      <th>1</th>\n      <td>München</td>\n      <td>18.6</td>\n    </tr>\n    <tr>\n      <th>2</th>\n      <td>Nürnberg</td>\n      <td>10.0</td>\n    </tr>\n    <tr>\n      <th>3</th>\n      <td>Hannover</td>\n      <td>8.8</td>\n    </tr>\n    <tr>\n      <th>4</th>\n      <td>Stuttgart</td>\n      <td>13.0</td>\n    </tr>\n    <tr>\n      <th>5</th>\n      <td>Frankfurt am Main</td>\n      <td>14.2</td>\n    </tr>\n    <tr>\n      <th>6</th>\n      <td>Hamburg</td>\n      <td>11.8</td>\n    </tr>\n    <tr>\n      <th>7</th>\n      <td>Leipzig</td>\n      <td>6.8</td>\n    </tr>\n    <tr>\n      <th>8</th>\n      <td>Düsseldorf</td>\n      <td>10.6</td>\n    </tr>\n    <tr>\n      <th>9</th>\n      <td>Dresden</td>\n      <td>7.6</td>\n    </tr>\n    <tr>\n      <th>10</th>\n      <td>Köln</td>\n      <td>10.9</td>\n    </tr>\n    <tr>\n      <th>11</th>\n      <td>Dortmund</td>\n      <td>7.0</td>\n    </tr>\n    <tr>\n      <th>12</th>\n      <td>Bremen</td>\n      <td>8.2</td>\n    </tr>\n    <tr>\n      <th>13</th>\n      <td>Essen</td>\n      <td>7.0</td>\n    </tr>\n  </tbody>\n</table>\n</div>"
     },
     "metadata": {},
     "execution_count": 81
    }
   ],
   "source": [
    "# Load Rental Prices\n",
    "Rental_Prices = pd.read_csv('2019_Mietpreise.csv',sep=';',decimal=\",\",encoding='latin1')\n",
    "Rental_Prices"
   ]
  },
  {
   "cell_type": "code",
   "execution_count": 82,
   "metadata": {},
   "outputs": [],
   "source": [
    "# Loop through DataFrame to retrieve Location-Data for the cities\n",
    "geolocator = Nominatim(user_agent=\"ger_explorer\")\n",
    "\n",
    "Locations = []\n",
    "\n",
    "for city in df['Stadt']:\n",
    "        geoinfo = geolocator.geocode(city)\n",
    "\n",
    "        Locations.append(\n",
    "               {\n",
    "            'Stadt': city,\n",
    "            'lat': geoinfo.latitude,\n",
    "            'long':  geoinfo.longitude,\n",
    "               }  \n",
    "           )\n",
    "\n",
    "Locations = pd.DataFrame(Locations)"
   ]
  },
  {
   "cell_type": "code",
   "execution_count": 83,
   "metadata": {},
   "outputs": [],
   "source": [
    "# Merge City Data with location data\n",
    "df = pd.merge(df,Locations, on='Stadt')"
   ]
  },
  {
   "cell_type": "markdown",
   "metadata": {},
   "source": [
    "<h2> Extracting Foursquare Data"
   ]
  },
  {
   "cell_type": "code",
   "execution_count": 84,
   "metadata": {},
   "outputs": [
    {
     "output_type": "stream",
     "name": "stdout",
     "text": "Your credentails:\nCLIENT_ID: TKZUDAD3BGL5SQUTQJ31AF1RO5FNLE1XB0QP23EKN3H0WLIR\nCLIENT_SECRET:GGHSHKUOEXMK2E4HHLVZW0THPQODRZKS3LXBU3DMRIJ5HDVP\n"
    }
   ],
   "source": [
    "CLIENT_ID = 'TKZUDAD3BGL5SQUTQJ31AF1RO5FNLE1XB0QP23EKN3H0WLIR' # your Foursquare ID\n",
    "CLIENT_SECRET = 'GGHSHKUOEXMK2E4HHLVZW0THPQODRZKS3LXBU3DMRIJ5HDVP' # your Foursquare Secret\n",
    "VERSION = '20200518' # Foursquare API version\n",
    "\n",
    "print('Your credentails:')\n",
    "print('CLIENT_ID: ' + CLIENT_ID)\n",
    "print('CLIENT_SECRET:' + CLIENT_SECRET)"
   ]
  },
  {
   "cell_type": "code",
   "execution_count": 86,
   "metadata": {},
   "outputs": [],
   "source": [
    "radius = 5000 # Define radius of interest\n",
    "LIMIT = 100 # How many venues do you want to check?"
   ]
  },
  {
   "cell_type": "code",
   "execution_count": 87,
   "metadata": {},
   "outputs": [],
   "source": [
    "def getNearbyVenues(names, latitudes, longitudes, catID, radius=500):\n",
    "    \n",
    "    venues_list=[]\n",
    "    for name, lat, lng in zip(names, latitudes, longitudes):\n",
    "        print(name)\n",
    "            \n",
    "        # create the API request URL\n",
    "        url = 'https://api.foursquare.com/v2/venues/explore?&client_id={}&client_secret={}&v={}&ll={},{}&radius={}&limit={}&categoryId={}'.format(\n",
    "            CLIENT_ID, \n",
    "            CLIENT_SECRET, \n",
    "            VERSION, \n",
    "            lat, \n",
    "            lng, \n",
    "            radius, \n",
    "            LIMIT,\n",
    "            catID)\n",
    "            \n",
    "        # make the GET request\n",
    "        results = requests.get(url).json()[\"response\"]['groups'][0]['items']\n",
    "        \n",
    "        # return only relevant information for each nearby venue\n",
    "        venues_list.append([(\n",
    "            name, \n",
    "            lat, \n",
    "            lng, \n",
    "            v['venue']['name'], \n",
    "            v['venue']['location']['lat'], \n",
    "            v['venue']['location']['lng'],  \n",
    "            v['venue']['categories'][0]['name']) for v in results])\n",
    "\n",
    "    nearby_venues = pd.DataFrame([item for venue_list in venues_list for item in venue_list])\n",
    "    nearby_venues.columns = ['Neighbourhood', \n",
    "                  'Neighbourhood Latitude', \n",
    "                  'Neighbourhood Longitude', \n",
    "                  'Venue', \n",
    "                  'Venue Latitude', \n",
    "                  'Venue Longitude', \n",
    "                  'Venue Category']\n",
    "    \n",
    "    return(nearby_venues)"
   ]
  },
  {
   "cell_type": "code",
   "execution_count": 88,
   "metadata": {},
   "outputs": [
    {
     "output_type": "stream",
     "name": "stdout",
     "text": "Berlin\nHamburg\nMünchen\nKöln\nFrankfurt am Main\nStuttgart\nDüsseldorf\nLeipzig\nDortmund\nEssen\nBremen\nDresden\nHannover\nNürnberg\n"
    }
   ],
   "source": [
    "Nightlife =  getNearbyVenues(names=df['Stadt'],\n",
    "                        latitudes=df['lat'],\n",
    "                        longitudes=df['long'],\n",
    "                        catID='4d4b7105d754a06376d81259',\n",
    "                        radius=5000)"
   ]
  },
  {
   "cell_type": "code",
   "execution_count": 89,
   "metadata": {},
   "outputs": [],
   "source": [
    "# one hot encoding\n",
    "nightlife_onehot = pd.get_dummies(Nightlife[['Venue Category']], prefix=\"\", prefix_sep=\"\")\n",
    "\n",
    "# add neighborhood column back to dataframe\n",
    "nightlife_onehot['Neighbourhood'] = Nightlife['Neighbourhood'] \n",
    "\n",
    "# move neighborhood column to the first column\n",
    "fixed_columns = [nightlife_onehot.columns[-1]] + list(nightlife_onehot.columns[:-1])\n",
    "nightlife_onehot = nightlife_onehot[fixed_columns]\n",
    "\n",
    "nightlife_grouped = nightlife_onehot.groupby('Neighbourhood').mean().reset_index()\n",
    "nightlife_grouped=nightlife_grouped.rename({'Neighbourhood':'Stadt'}, axis=1)\n",
    "#nightlife_grouped.head()"
   ]
  },
  {
   "cell_type": "code",
   "execution_count": 90,
   "metadata": {},
   "outputs": [],
   "source": [
    "# Merge Data \n",
    "Price_Income = pd.merge(Rental_Prices, Income_Table, on='Stadt')\n",
    "df_cities = pd.merge(Price_Income,df, on='Stadt')"
   ]
  },
  {
   "cell_type": "code",
   "execution_count": 91,
   "metadata": {},
   "outputs": [
    {
     "output_type": "execute_result",
     "data": {
      "text/plain": "       Stadt  Mietpreis H1 2019 in Euro/m²  Verfügbares Einkommen in Euro  \\\n0     Berlin                          11.6                         19.719   \n1    München                          18.6                         29.685   \n2   Nürnberg                          10.0                         21.785   \n3   Hannover                           8.8                         20.977   \n4  Stuttgart                          13.0                         25.012   \n\n      Size        lat       long  African Restaurant  American Restaurant  \\\n0  3644826  52.517037  13.388860            0.000000                  0.0   \n1  1471508  48.137108  11.575382            0.000000                  0.0   \n2   518365  49.453872  11.077298            0.000000                  0.0   \n3   538068  52.374478   9.738553            0.000000                  0.0   \n4   634830  48.778449   9.180013            0.011236                  0.0   \n\n   Asian Restaurant  Australian Restaurant  Bakery       Bar  \\\n0               0.0                    0.0     0.0  0.290000   \n1               0.0                    0.0     0.0  0.240000   \n2               0.0                    0.0     0.0  0.253968   \n3               0.0                    0.0     0.0  0.108108   \n4               0.0                    0.0     0.0  0.224719   \n\n   Bavarian Restaurant     Beach  Beach Bar  Beer Bar  Beer Garden    Bistro  \\\n0                 0.00  0.000000   0.020000  0.050000     0.040000  0.000000   \n1                 0.05  0.000000   0.000000  0.020000     0.070000  0.000000   \n2                 0.00  0.015873   0.000000  0.015873     0.079365  0.000000   \n3                 0.00  0.000000   0.027027  0.013514     0.081081  0.013514   \n4                 0.00  0.000000   0.011236  0.000000     0.078652  0.000000   \n\n   Bowling Alley  Breakfast Spot   Brewery  Burger Joint  Burrito Place  \\\n0       0.000000            0.01  0.030000      0.000000            0.0   \n1       0.000000            0.00  0.020000      0.000000            0.0   \n2       0.000000            0.00  0.031746      0.000000            0.0   \n3       0.013514            0.00  0.040541      0.013514            0.0   \n4       0.000000            0.00  0.011236      0.000000            0.0   \n\n       Café  Cocktail Bar  Coffee Shop  Comfort Food Restaurant  Concert Hall  \\\n0  0.010000      0.150000     0.000000                      0.0           0.0   \n1  0.090000      0.160000     0.010000                      0.0           0.0   \n2  0.079365      0.079365     0.000000                      0.0           0.0   \n3  0.040541      0.108108     0.013514                      0.0           0.0   \n4  0.044944      0.078652     0.000000                      0.0           0.0   \n\n   Cuban Restaurant  Deli / Bodega  Diner  Dive Bar  \\\n0               0.0           0.00    0.0      0.01   \n1               0.0           0.01    0.0      0.00   \n2               0.0           0.00    0.0      0.00   \n3               0.0           0.00    0.0      0.00   \n4               0.0           0.00    0.0      0.00   \n\n   Eastern European Restaurant  Event Space  Fast Food Restaurant  \\\n0                         0.01     0.000000                  0.00   \n1                         0.00     0.000000                  0.01   \n2                         0.00     0.000000                  0.00   \n3                         0.00     0.000000                  0.00   \n4                         0.00     0.011236                  0.00   \n\n   Food & Drink Shop  Food Court  French Restaurant  Gastropub   Gay Bar  \\\n0               0.00        0.00           0.000000   0.040000  0.010000   \n1               0.01        0.01           0.000000   0.030000  0.010000   \n2               0.00        0.00           0.000000   0.063492  0.000000   \n3               0.00        0.00           0.000000   0.040541  0.000000   \n4               0.00        0.00           0.011236   0.056180  0.011236   \n\n   General Entertainment  German Restaurant  Greek Restaurant  \\\n0                    0.0           0.000000          0.000000   \n1                    0.0           0.050000          0.000000   \n2                    0.0           0.015873          0.015873   \n3                    0.0           0.013514          0.000000   \n4                    0.0           0.044944          0.000000   \n\n   Hawaiian Restaurant  Hookah Bar     Hotel  Hotel Bar  Ice Cream Shop  \\\n0                 0.00    0.010000  0.000000   0.010000             0.0   \n1                 0.01    0.000000  0.000000   0.030000             0.0   \n2                 0.00    0.047619  0.000000   0.047619             0.0   \n3                 0.00    0.040541  0.000000   0.013514             0.0   \n4                 0.00    0.022472  0.011236   0.022472             0.0   \n\n   Indie Movie Theater  Irish Pub  Israeli Restaurant  Italian Restaurant  \\\n0                  0.0   0.010000                0.01            0.010000   \n1                  0.0   0.000000                0.00            0.020000   \n2                  0.0   0.000000                0.00            0.000000   \n3                  0.0   0.013514                0.00            0.013514   \n4                  0.0   0.000000                0.00            0.000000   \n\n   Jazz Club  Karaoke Bar    Lounge  Mediterranean Restaurant  \\\n0   0.000000         0.01  0.020000                       0.0   \n1   0.000000         0.00  0.010000                       0.0   \n2   0.000000         0.00  0.031746                       0.0   \n3   0.000000         0.00  0.040541                       0.0   \n4   0.011236         0.00  0.067416                       0.0   \n\n   Mexican Restaurant  Middle Eastern Restaurant  Modern European Restaurant  \\\n0                 0.0                        0.0                    0.000000   \n1                 0.0                        0.0                    0.000000   \n2                 0.0                        0.0                    0.015873   \n3                 0.0                        0.0                    0.000000   \n4                 0.0                        0.0                    0.000000   \n\n   Museum  Music Venue  Nightclub  Other Nightlife  Piano Bar  Pizza Place  \\\n0     0.0         0.00   0.050000              0.0       0.01          0.0   \n1     0.0         0.01   0.020000              0.0       0.00          0.0   \n2     0.0         0.00   0.063492              0.0       0.00          0.0   \n3     0.0         0.00   0.108108              0.0       0.00          0.0   \n4     0.0         0.00   0.101124              0.0       0.00          0.0   \n\n   Plaza  Polish Restaurant       Pub  Ramen Restaurant  Restaurant  \\\n0    0.0           0.000000  0.040000               0.0    0.000000   \n1    0.0           0.000000  0.040000               0.0    0.000000   \n2    0.0           0.015873  0.047619               0.0    0.031746   \n3    0.0           0.000000  0.148649               0.0    0.027027   \n4    0.0           0.000000  0.044944               0.0    0.022472   \n\n   Rhenisch Restaurant  Rock Club  Sake Bar  Seafood Restaurant  Smoke Shop  \\\n0                  0.0   0.000000       0.0                 0.0         0.0   \n1                  0.0   0.000000       0.0                 0.0         0.0   \n2                  0.0   0.000000       0.0                 0.0         0.0   \n3                  0.0   0.000000       0.0                 0.0         0.0   \n4                  0.0   0.011236       0.0                 0.0         0.0   \n\n   Spanish Restaurant  Speakeasy  Sports Bar  Tapas Restaurant   Theater  \\\n0                0.00   0.010000    0.010000               0.0  0.000000   \n1                0.01   0.010000    0.010000               0.0  0.000000   \n2                0.00   0.015873    0.000000               0.0  0.000000   \n3                0.00   0.000000    0.013514               0.0  0.013514   \n4                0.00   0.000000    0.033708               0.0  0.000000   \n\n   Theme Restaurant  Trattoria/Osteria  Vegetarian / Vegan Restaurant  \\\n0               0.0                0.0                            0.0   \n1               0.0                0.0                            0.0   \n2               0.0                0.0                            0.0   \n3               0.0                0.0                            0.0   \n4               0.0                0.0                            0.0   \n\n   Whisky Bar  Wine Bar  Wine Shop  Winery  \n0    0.000000  0.130000       0.00     0.0  \n1    0.000000  0.030000       0.01     0.0  \n2    0.000000  0.031746       0.00     0.0  \n3    0.000000  0.040541       0.00     0.0  \n4    0.011236  0.044944       0.00     0.0  ",
      "text/html": "<div>\n<style scoped>\n    .dataframe tbody tr th:only-of-type {\n        vertical-align: middle;\n    }\n\n    .dataframe tbody tr th {\n        vertical-align: top;\n    }\n\n    .dataframe thead th {\n        text-align: right;\n    }\n</style>\n<table border=\"1\" class=\"dataframe\">\n  <thead>\n    <tr style=\"text-align: right;\">\n      <th></th>\n      <th>Stadt</th>\n      <th>Mietpreis H1 2019 in Euro/m²</th>\n      <th>Verfügbares Einkommen in Euro</th>\n      <th>Size</th>\n      <th>lat</th>\n      <th>long</th>\n      <th>African Restaurant</th>\n      <th>American Restaurant</th>\n      <th>Asian Restaurant</th>\n      <th>Australian Restaurant</th>\n      <th>Bakery</th>\n      <th>Bar</th>\n      <th>Bavarian Restaurant</th>\n      <th>Beach</th>\n      <th>Beach Bar</th>\n      <th>Beer Bar</th>\n      <th>Beer Garden</th>\n      <th>Bistro</th>\n      <th>Bowling Alley</th>\n      <th>Breakfast Spot</th>\n      <th>Brewery</th>\n      <th>Burger Joint</th>\n      <th>Burrito Place</th>\n      <th>Café</th>\n      <th>Cocktail Bar</th>\n      <th>Coffee Shop</th>\n      <th>Comfort Food Restaurant</th>\n      <th>Concert Hall</th>\n      <th>Cuban Restaurant</th>\n      <th>Deli / Bodega</th>\n      <th>Diner</th>\n      <th>Dive Bar</th>\n      <th>Eastern European Restaurant</th>\n      <th>Event Space</th>\n      <th>Fast Food Restaurant</th>\n      <th>Food &amp; Drink Shop</th>\n      <th>Food Court</th>\n      <th>French Restaurant</th>\n      <th>Gastropub</th>\n      <th>Gay Bar</th>\n      <th>General Entertainment</th>\n      <th>German Restaurant</th>\n      <th>Greek Restaurant</th>\n      <th>Hawaiian Restaurant</th>\n      <th>Hookah Bar</th>\n      <th>Hotel</th>\n      <th>Hotel Bar</th>\n      <th>Ice Cream Shop</th>\n      <th>Indie Movie Theater</th>\n      <th>Irish Pub</th>\n      <th>Israeli Restaurant</th>\n      <th>Italian Restaurant</th>\n      <th>Jazz Club</th>\n      <th>Karaoke Bar</th>\n      <th>Lounge</th>\n      <th>Mediterranean Restaurant</th>\n      <th>Mexican Restaurant</th>\n      <th>Middle Eastern Restaurant</th>\n      <th>Modern European Restaurant</th>\n      <th>Museum</th>\n      <th>Music Venue</th>\n      <th>Nightclub</th>\n      <th>Other Nightlife</th>\n      <th>Piano Bar</th>\n      <th>Pizza Place</th>\n      <th>Plaza</th>\n      <th>Polish Restaurant</th>\n      <th>Pub</th>\n      <th>Ramen Restaurant</th>\n      <th>Restaurant</th>\n      <th>Rhenisch Restaurant</th>\n      <th>Rock Club</th>\n      <th>Sake Bar</th>\n      <th>Seafood Restaurant</th>\n      <th>Smoke Shop</th>\n      <th>Spanish Restaurant</th>\n      <th>Speakeasy</th>\n      <th>Sports Bar</th>\n      <th>Tapas Restaurant</th>\n      <th>Theater</th>\n      <th>Theme Restaurant</th>\n      <th>Trattoria/Osteria</th>\n      <th>Vegetarian / Vegan Restaurant</th>\n      <th>Whisky Bar</th>\n      <th>Wine Bar</th>\n      <th>Wine Shop</th>\n      <th>Winery</th>\n    </tr>\n  </thead>\n  <tbody>\n    <tr>\n      <th>0</th>\n      <td>Berlin</td>\n      <td>11.6</td>\n      <td>19.719</td>\n      <td>3644826</td>\n      <td>52.517037</td>\n      <td>13.388860</td>\n      <td>0.000000</td>\n      <td>0.0</td>\n      <td>0.0</td>\n      <td>0.0</td>\n      <td>0.0</td>\n      <td>0.290000</td>\n      <td>0.00</td>\n      <td>0.000000</td>\n      <td>0.020000</td>\n      <td>0.050000</td>\n      <td>0.040000</td>\n      <td>0.000000</td>\n      <td>0.000000</td>\n      <td>0.01</td>\n      <td>0.030000</td>\n      <td>0.000000</td>\n      <td>0.0</td>\n      <td>0.010000</td>\n      <td>0.150000</td>\n      <td>0.000000</td>\n      <td>0.0</td>\n      <td>0.0</td>\n      <td>0.0</td>\n      <td>0.00</td>\n      <td>0.0</td>\n      <td>0.01</td>\n      <td>0.01</td>\n      <td>0.000000</td>\n      <td>0.00</td>\n      <td>0.00</td>\n      <td>0.00</td>\n      <td>0.000000</td>\n      <td>0.040000</td>\n      <td>0.010000</td>\n      <td>0.0</td>\n      <td>0.000000</td>\n      <td>0.000000</td>\n      <td>0.00</td>\n      <td>0.010000</td>\n      <td>0.000000</td>\n      <td>0.010000</td>\n      <td>0.0</td>\n      <td>0.0</td>\n      <td>0.010000</td>\n      <td>0.01</td>\n      <td>0.010000</td>\n      <td>0.000000</td>\n      <td>0.01</td>\n      <td>0.020000</td>\n      <td>0.0</td>\n      <td>0.0</td>\n      <td>0.0</td>\n      <td>0.000000</td>\n      <td>0.0</td>\n      <td>0.00</td>\n      <td>0.050000</td>\n      <td>0.0</td>\n      <td>0.01</td>\n      <td>0.0</td>\n      <td>0.0</td>\n      <td>0.000000</td>\n      <td>0.040000</td>\n      <td>0.0</td>\n      <td>0.000000</td>\n      <td>0.0</td>\n      <td>0.000000</td>\n      <td>0.0</td>\n      <td>0.0</td>\n      <td>0.0</td>\n      <td>0.00</td>\n      <td>0.010000</td>\n      <td>0.010000</td>\n      <td>0.0</td>\n      <td>0.000000</td>\n      <td>0.0</td>\n      <td>0.0</td>\n      <td>0.0</td>\n      <td>0.000000</td>\n      <td>0.130000</td>\n      <td>0.00</td>\n      <td>0.0</td>\n    </tr>\n    <tr>\n      <th>1</th>\n      <td>München</td>\n      <td>18.6</td>\n      <td>29.685</td>\n      <td>1471508</td>\n      <td>48.137108</td>\n      <td>11.575382</td>\n      <td>0.000000</td>\n      <td>0.0</td>\n      <td>0.0</td>\n      <td>0.0</td>\n      <td>0.0</td>\n      <td>0.240000</td>\n      <td>0.05</td>\n      <td>0.000000</td>\n      <td>0.000000</td>\n      <td>0.020000</td>\n      <td>0.070000</td>\n      <td>0.000000</td>\n      <td>0.000000</td>\n      <td>0.00</td>\n      <td>0.020000</td>\n      <td>0.000000</td>\n      <td>0.0</td>\n      <td>0.090000</td>\n      <td>0.160000</td>\n      <td>0.010000</td>\n      <td>0.0</td>\n      <td>0.0</td>\n      <td>0.0</td>\n      <td>0.01</td>\n      <td>0.0</td>\n      <td>0.00</td>\n      <td>0.00</td>\n      <td>0.000000</td>\n      <td>0.01</td>\n      <td>0.01</td>\n      <td>0.01</td>\n      <td>0.000000</td>\n      <td>0.030000</td>\n      <td>0.010000</td>\n      <td>0.0</td>\n      <td>0.050000</td>\n      <td>0.000000</td>\n      <td>0.01</td>\n      <td>0.000000</td>\n      <td>0.000000</td>\n      <td>0.030000</td>\n      <td>0.0</td>\n      <td>0.0</td>\n      <td>0.000000</td>\n      <td>0.00</td>\n      <td>0.020000</td>\n      <td>0.000000</td>\n      <td>0.00</td>\n      <td>0.010000</td>\n      <td>0.0</td>\n      <td>0.0</td>\n      <td>0.0</td>\n      <td>0.000000</td>\n      <td>0.0</td>\n      <td>0.01</td>\n      <td>0.020000</td>\n      <td>0.0</td>\n      <td>0.00</td>\n      <td>0.0</td>\n      <td>0.0</td>\n      <td>0.000000</td>\n      <td>0.040000</td>\n      <td>0.0</td>\n      <td>0.000000</td>\n      <td>0.0</td>\n      <td>0.000000</td>\n      <td>0.0</td>\n      <td>0.0</td>\n      <td>0.0</td>\n      <td>0.01</td>\n      <td>0.010000</td>\n      <td>0.010000</td>\n      <td>0.0</td>\n      <td>0.000000</td>\n      <td>0.0</td>\n      <td>0.0</td>\n      <td>0.0</td>\n      <td>0.000000</td>\n      <td>0.030000</td>\n      <td>0.01</td>\n      <td>0.0</td>\n    </tr>\n    <tr>\n      <th>2</th>\n      <td>Nürnberg</td>\n      <td>10.0</td>\n      <td>21.785</td>\n      <td>518365</td>\n      <td>49.453872</td>\n      <td>11.077298</td>\n      <td>0.000000</td>\n      <td>0.0</td>\n      <td>0.0</td>\n      <td>0.0</td>\n      <td>0.0</td>\n      <td>0.253968</td>\n      <td>0.00</td>\n      <td>0.015873</td>\n      <td>0.000000</td>\n      <td>0.015873</td>\n      <td>0.079365</td>\n      <td>0.000000</td>\n      <td>0.000000</td>\n      <td>0.00</td>\n      <td>0.031746</td>\n      <td>0.000000</td>\n      <td>0.0</td>\n      <td>0.079365</td>\n      <td>0.079365</td>\n      <td>0.000000</td>\n      <td>0.0</td>\n      <td>0.0</td>\n      <td>0.0</td>\n      <td>0.00</td>\n      <td>0.0</td>\n      <td>0.00</td>\n      <td>0.00</td>\n      <td>0.000000</td>\n      <td>0.00</td>\n      <td>0.00</td>\n      <td>0.00</td>\n      <td>0.000000</td>\n      <td>0.063492</td>\n      <td>0.000000</td>\n      <td>0.0</td>\n      <td>0.015873</td>\n      <td>0.015873</td>\n      <td>0.00</td>\n      <td>0.047619</td>\n      <td>0.000000</td>\n      <td>0.047619</td>\n      <td>0.0</td>\n      <td>0.0</td>\n      <td>0.000000</td>\n      <td>0.00</td>\n      <td>0.000000</td>\n      <td>0.000000</td>\n      <td>0.00</td>\n      <td>0.031746</td>\n      <td>0.0</td>\n      <td>0.0</td>\n      <td>0.0</td>\n      <td>0.015873</td>\n      <td>0.0</td>\n      <td>0.00</td>\n      <td>0.063492</td>\n      <td>0.0</td>\n      <td>0.00</td>\n      <td>0.0</td>\n      <td>0.0</td>\n      <td>0.015873</td>\n      <td>0.047619</td>\n      <td>0.0</td>\n      <td>0.031746</td>\n      <td>0.0</td>\n      <td>0.000000</td>\n      <td>0.0</td>\n      <td>0.0</td>\n      <td>0.0</td>\n      <td>0.00</td>\n      <td>0.015873</td>\n      <td>0.000000</td>\n      <td>0.0</td>\n      <td>0.000000</td>\n      <td>0.0</td>\n      <td>0.0</td>\n      <td>0.0</td>\n      <td>0.000000</td>\n      <td>0.031746</td>\n      <td>0.00</td>\n      <td>0.0</td>\n    </tr>\n    <tr>\n      <th>3</th>\n      <td>Hannover</td>\n      <td>8.8</td>\n      <td>20.977</td>\n      <td>538068</td>\n      <td>52.374478</td>\n      <td>9.738553</td>\n      <td>0.000000</td>\n      <td>0.0</td>\n      <td>0.0</td>\n      <td>0.0</td>\n      <td>0.0</td>\n      <td>0.108108</td>\n      <td>0.00</td>\n      <td>0.000000</td>\n      <td>0.027027</td>\n      <td>0.013514</td>\n      <td>0.081081</td>\n      <td>0.013514</td>\n      <td>0.013514</td>\n      <td>0.00</td>\n      <td>0.040541</td>\n      <td>0.013514</td>\n      <td>0.0</td>\n      <td>0.040541</td>\n      <td>0.108108</td>\n      <td>0.013514</td>\n      <td>0.0</td>\n      <td>0.0</td>\n      <td>0.0</td>\n      <td>0.00</td>\n      <td>0.0</td>\n      <td>0.00</td>\n      <td>0.00</td>\n      <td>0.000000</td>\n      <td>0.00</td>\n      <td>0.00</td>\n      <td>0.00</td>\n      <td>0.000000</td>\n      <td>0.040541</td>\n      <td>0.000000</td>\n      <td>0.0</td>\n      <td>0.013514</td>\n      <td>0.000000</td>\n      <td>0.00</td>\n      <td>0.040541</td>\n      <td>0.000000</td>\n      <td>0.013514</td>\n      <td>0.0</td>\n      <td>0.0</td>\n      <td>0.013514</td>\n      <td>0.00</td>\n      <td>0.013514</td>\n      <td>0.000000</td>\n      <td>0.00</td>\n      <td>0.040541</td>\n      <td>0.0</td>\n      <td>0.0</td>\n      <td>0.0</td>\n      <td>0.000000</td>\n      <td>0.0</td>\n      <td>0.00</td>\n      <td>0.108108</td>\n      <td>0.0</td>\n      <td>0.00</td>\n      <td>0.0</td>\n      <td>0.0</td>\n      <td>0.000000</td>\n      <td>0.148649</td>\n      <td>0.0</td>\n      <td>0.027027</td>\n      <td>0.0</td>\n      <td>0.000000</td>\n      <td>0.0</td>\n      <td>0.0</td>\n      <td>0.0</td>\n      <td>0.00</td>\n      <td>0.000000</td>\n      <td>0.013514</td>\n      <td>0.0</td>\n      <td>0.013514</td>\n      <td>0.0</td>\n      <td>0.0</td>\n      <td>0.0</td>\n      <td>0.000000</td>\n      <td>0.040541</td>\n      <td>0.00</td>\n      <td>0.0</td>\n    </tr>\n    <tr>\n      <th>4</th>\n      <td>Stuttgart</td>\n      <td>13.0</td>\n      <td>25.012</td>\n      <td>634830</td>\n      <td>48.778449</td>\n      <td>9.180013</td>\n      <td>0.011236</td>\n      <td>0.0</td>\n      <td>0.0</td>\n      <td>0.0</td>\n      <td>0.0</td>\n      <td>0.224719</td>\n      <td>0.00</td>\n      <td>0.000000</td>\n      <td>0.011236</td>\n      <td>0.000000</td>\n      <td>0.078652</td>\n      <td>0.000000</td>\n      <td>0.000000</td>\n      <td>0.00</td>\n      <td>0.011236</td>\n      <td>0.000000</td>\n      <td>0.0</td>\n      <td>0.044944</td>\n      <td>0.078652</td>\n      <td>0.000000</td>\n      <td>0.0</td>\n      <td>0.0</td>\n      <td>0.0</td>\n      <td>0.00</td>\n      <td>0.0</td>\n      <td>0.00</td>\n      <td>0.00</td>\n      <td>0.011236</td>\n      <td>0.00</td>\n      <td>0.00</td>\n      <td>0.00</td>\n      <td>0.011236</td>\n      <td>0.056180</td>\n      <td>0.011236</td>\n      <td>0.0</td>\n      <td>0.044944</td>\n      <td>0.000000</td>\n      <td>0.00</td>\n      <td>0.022472</td>\n      <td>0.011236</td>\n      <td>0.022472</td>\n      <td>0.0</td>\n      <td>0.0</td>\n      <td>0.000000</td>\n      <td>0.00</td>\n      <td>0.000000</td>\n      <td>0.011236</td>\n      <td>0.00</td>\n      <td>0.067416</td>\n      <td>0.0</td>\n      <td>0.0</td>\n      <td>0.0</td>\n      <td>0.000000</td>\n      <td>0.0</td>\n      <td>0.00</td>\n      <td>0.101124</td>\n      <td>0.0</td>\n      <td>0.00</td>\n      <td>0.0</td>\n      <td>0.0</td>\n      <td>0.000000</td>\n      <td>0.044944</td>\n      <td>0.0</td>\n      <td>0.022472</td>\n      <td>0.0</td>\n      <td>0.011236</td>\n      <td>0.0</td>\n      <td>0.0</td>\n      <td>0.0</td>\n      <td>0.00</td>\n      <td>0.000000</td>\n      <td>0.033708</td>\n      <td>0.0</td>\n      <td>0.000000</td>\n      <td>0.0</td>\n      <td>0.0</td>\n      <td>0.0</td>\n      <td>0.011236</td>\n      <td>0.044944</td>\n      <td>0.00</td>\n      <td>0.0</td>\n    </tr>\n  </tbody>\n</table>\n</div>"
     },
     "metadata": {},
     "execution_count": 91
    }
   ],
   "source": [
    "# Merge/Get Cities with their respective nightlife pattern next to demographic data\n",
    "df_cities = pd.merge(df_cities,nightlife_grouped, on=\"Stadt\")\n",
    "df_cities.head()"
   ]
  },
  {
   "cell_type": "markdown",
   "metadata": {},
   "source": [
    "<h2> Performing Cluster Analysis"
   ]
  },
  {
   "cell_type": "code",
   "execution_count": 92,
   "metadata": {},
   "outputs": [],
   "source": [
    "# set number of clusters\n",
    "kclusters = 5\n",
    "\n",
    "df_clustered = df_cities.drop('Stadt', 1)\n",
    "\n",
    "# run k-means clustering\n",
    "kmeans = KMeans(n_clusters=kclusters, random_state=0).fit(df_clustered.drop(['Size','lat','long'],1))\n"
   ]
  },
  {
   "cell_type": "code",
   "execution_count": 93,
   "metadata": {},
   "outputs": [],
   "source": [
    "# add clustering labels\n",
    "df_cities.insert(0, 'Cluster Labels', kmeans.labels_)\n"
   ]
  },
  {
   "cell_type": "markdown",
   "metadata": {},
   "source": [
    "<h2> Result Map"
   ]
  },
  {
   "cell_type": "code",
   "execution_count": 94,
   "metadata": {},
   "outputs": [
    {
     "output_type": "execute_result",
     "data": {
      "text/plain": "<folium.folium.Map at 0x188df832148>",
      "text/html": "<div style=\"width:100%;\"><div style=\"position:relative;width:100%;height:0;padding-bottom:60%;\"><iframe src=\"about:blank\" style=\"position:absolute;width:100%;height:100%;left:0;top:0;border:none !important;\" data-html=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 onload=\"this.contentDocument.open();this.contentDocument.write(atob(this.getAttribute('data-html')));this.contentDocument.close();\" allowfullscreen webkitallowfullscreen mozallowfullscreen></iframe></div></div>"
     },
     "metadata": {},
     "execution_count": 94
    }
   ],
   "source": [
    "# create a map of Germany, where the different cities are highlighted and clusters are assigned\n",
    "\n",
    "map_clusters = folium.Map(location=[49.8, 12], zoom_start=6)\n",
    "\n",
    "x = np.arange(df_cities['Cluster Labels'].nunique())\n",
    "ys = [i + x + (i*x)**2 for i in range(df_cities['Cluster Labels'].nunique())]\n",
    "colors_array = cm.rainbow(np.linspace(0, 1, len(ys)))\n",
    "rainbow = [colors.rgb2hex(i) for i in colors_array]\n",
    "\n",
    "# add markers to the map\n",
    "markers_colors = []\n",
    "for lat, lon, poi, cluster in zip(df_cities['lat'], df_cities['long'], df_cities['Stadt'], df_cities['Cluster Labels']):\n",
    "    label = folium.Popup(str(poi) + ' Cluster ' + str(cluster), parse_html=True)\n",
    "    folium.CircleMarker(\n",
    "        [lat, lon],\n",
    "        radius=5,\n",
    "        popup=label,\n",
    "        color=rainbow[int(cluster)],\n",
    "        fill=True,\n",
    "        fill_color=rainbow[int(cluster)],\n",
    "        fill_opacity=0.7).add_to(map_clusters)\n",
    "       \n",
    "map_clusters"
   ]
  },
  {
   "cell_type": "markdown",
   "metadata": {},
   "source": [
    "<h2> Result tables </h2>\n",
    "\n",
    "<br> Find the Income (\"Einkommen\") and rental price (\"Mietpreis\") for each city per cluster\n",
    "<br> As well as the most common venues (returned for each cluster; not for the specific city)\n",
    "<br> For an interpretation of these results please see the report or presentation"
   ]
  },
  {
   "cell_type": "code",
   "execution_count": 95,
   "metadata": {},
   "outputs": [],
   "source": [
    "# Define Function for summary tables per cluster\n",
    "def return_most_common_venues(row, num_top_venues):\n",
    "    row_categories = row.iloc[6:]\n",
    "    row_categories_sorted = row_categories.sort_values(ascending=False)\n",
    "    \n",
    "    return row_categories_sorted.index.values[0:num_top_venues]"
   ]
  },
  {
   "cell_type": "markdown",
   "metadata": {},
   "source": [
    "<h3> Average statistics per Cluster </h3>\n",
    "<br> rental prices (\"Mietpreis\"); Accessible Income (\"Verfügbares Einkommen\") and other summary statistics (e.g. relative frequency of nightlife spots)"
   ]
  },
  {
   "cell_type": "code",
   "execution_count": 96,
   "metadata": {},
   "outputs": [
    {
     "output_type": "execute_result",
     "data": {
      "text/plain": "   Cluster Labels  Mietpreis H1 2019 in Euro/m²  \\\n0               0                         7.100   \n1               1                        11.800   \n2               2                        18.600   \n3               3                        12.900   \n4               4                         9.475   \n\n   Verfügbares Einkommen in Euro          Size        lat       long  \\\n0                      18.949250  5.781562e+05  51.340603  10.148493   \n1                      24.771667  1.031768e+06  51.182538   8.655413   \n2                      29.685000  1.471508e+06  48.137108  11.575382   \n3                      20.704500  2.198941e+06  51.313840  11.035476   \n4                      21.424250  6.778622e+05  51.460633   9.145747   \n\n   African Restaurant  American Restaurant  Asian Restaurant  \\\n0            0.000000             0.003788          0.000000   \n1            0.003745             0.000000          0.003333   \n2            0.000000             0.000000          0.000000   \n3            0.000000             0.000000          0.000000   \n4            0.000000             0.000000          0.000000   \n\n   Australian Restaurant    Bakery       Bar  Bavarian Restaurant     Beach  \\\n0               0.003788  0.003906  0.182113                 0.00  0.000000   \n1               0.000000  0.000000  0.205939                 0.00  0.000000   \n2               0.000000  0.000000  0.240000                 0.05  0.000000   \n3               0.000000  0.000000  0.255000                 0.00  0.000000   \n4               0.000000  0.000000  0.209848                 0.00  0.003968   \n\n   Beach Bar  Beer Bar  Beer Garden    Bistro  Bowling Alley  Breakfast Spot  \\\n0   0.000000  0.009770     0.037607  0.005208       0.000000        0.005983   \n1   0.016468  0.008028     0.047579  0.003333       0.000000        0.000000   \n2   0.000000  0.020000     0.070000  0.000000       0.000000        0.000000   \n3   0.010000  0.030000     0.035000  0.000000       0.000000        0.005000   \n4   0.006757  0.011657     0.065180  0.003378       0.003378        0.000000   \n\n    Brewery  Burger Joint  Burrito Place      Café  Cocktail Bar  Coffee Shop  \\\n0  0.031915      0.010417       0.003788  0.046229      0.052048     0.000000   \n1  0.049802      0.008028       0.000000  0.049817      0.120583     0.003333   \n2  0.020000      0.000000       0.000000  0.090000      0.160000     0.010000   \n3  0.030000      0.010000       0.000000  0.015000      0.115000     0.000000   \n4  0.060608      0.007689       0.000000  0.045176      0.098025     0.003378   \n\n   Comfort Food Restaurant  Concert Hall  Cuban Restaurant  Deli / Bodega  \\\n0                 0.003788      0.002604          0.003906           0.00   \n1                 0.004695      0.003333          0.000000           0.00   \n2                 0.000000      0.000000          0.000000           0.01   \n3                 0.000000      0.000000          0.000000           0.00   \n4                 0.000000      0.004310          0.000000           0.00   \n\n      Diner  Dive Bar  Eastern European Restaurant  Event Space  \\\n0  0.003788  0.003788                     0.003378     0.003788   \n1  0.000000  0.003333                     0.000000     0.003745   \n2  0.000000  0.000000                     0.000000     0.000000   \n3  0.000000  0.010000                     0.005000     0.000000   \n4  0.000000  0.004310                     0.000000     0.004310   \n\n   Fast Food Restaurant  Food & Drink Shop  Food Court  French Restaurant  \\\n0                  0.00               0.00        0.00           0.000000   \n1                  0.00               0.00        0.00           0.017079   \n2                  0.01               0.01        0.01           0.000000   \n3                  0.00               0.00        0.00           0.005000   \n4                  0.00               0.00        0.00           0.004310   \n\n   Gastropub   Gay Bar  General Entertainment  German Restaurant  \\\n0   0.057839  0.007812               0.002604           0.024704   \n1   0.057506  0.003745               0.000000           0.041038   \n2   0.030000  0.010000               0.000000           0.050000   \n3   0.055000  0.010000               0.000000           0.015000   \n4   0.051076  0.003289               0.000000           0.025836   \n\n   Greek Restaurant  Hawaiian Restaurant  Hookah Bar     Hotel  Hotel Bar  \\\n0          0.014979                 0.00    0.016281  0.010417   0.009361   \n1          0.000000                 0.00    0.007491  0.003745   0.012185   \n2          0.000000                 0.01    0.000000  0.000000   0.030000   \n3          0.000000                 0.00    0.005000  0.000000   0.030000   \n4          0.003968                 0.00    0.028619  0.000000   0.015283   \n\n   Ice Cream Shop  Indie Movie Theater  Irish Pub  Israeli Restaurant  \\\n0        0.003906             0.006757   0.005208                0.00   \n1        0.000000             0.000000   0.000000                0.00   \n2        0.000000             0.000000   0.000000                0.00   \n3        0.000000             0.000000   0.010000                0.01   \n4        0.000000             0.004310   0.003378                0.00   \n\n   Italian Restaurant  Jazz Club  Karaoke Bar    Lounge  \\\n0            0.003378   0.009770     0.002604  0.026825   \n1            0.000000   0.003745     0.000000  0.030500   \n2            0.020000   0.000000     0.000000  0.010000   \n3            0.010000   0.000000     0.010000  0.035000   \n4            0.015289   0.000000     0.000000  0.048471   \n\n   Mediterranean Restaurant  Mexican Restaurant  Middle Eastern Restaurant  \\\n0                  0.007576            0.010298                   0.000000   \n1                  0.000000            0.000000                   0.003333   \n2                  0.000000            0.000000                   0.000000   \n3                  0.000000            0.000000                   0.000000   \n4                  0.003289            0.003289                   0.000000   \n\n   Modern European Restaurant    Museum  Music Venue  Nightclub  \\\n0                    0.006757  0.003788     0.003378   0.150079   \n1                    0.000000  0.000000     0.000000   0.075210   \n2                    0.000000  0.000000     0.010000   0.020000   \n3                    0.000000  0.000000     0.000000   0.055000   \n4                    0.003968  0.000000     0.000000   0.077610   \n\n   Other Nightlife  Piano Bar  Pizza Place  Plaza  Polish Restaurant  \\\n0         0.007166       0.00     0.000000  0.000           0.000000   \n1         0.000000       0.00     0.000000  0.000           0.000000   \n2         0.000000       0.00     0.000000  0.000           0.000000   \n3         0.000000       0.01     0.000000  0.005           0.000000   \n4         0.000000       0.00     0.003289  0.000           0.003968   \n\n        Pub  Ramen Restaurant  Restaurant  Rhenisch Restaurant  Rock Club  \\\n0  0.099397             0.000    0.035047             0.000000   0.002604   \n1  0.085873             0.000    0.033547             0.003333   0.003745   \n2  0.040000             0.000    0.000000             0.000000   0.000000   \n3  0.045000             0.005    0.025000             0.000000   0.000000   \n4  0.094666             0.000    0.021272             0.003289   0.000000   \n\n   Sake Bar  Seafood Restaurant  Smoke Shop  Spanish Restaurant  Speakeasy  \\\n0     0.000            0.000000    0.000000                0.00   0.003378   \n1     0.000            0.003333    0.003333                0.00   0.000000   \n2     0.000            0.000000    0.000000                0.01   0.010000   \n3     0.005            0.005000    0.000000                0.00   0.015000   \n4     0.000            0.000000    0.000000                0.00   0.003968   \n\n   Sports Bar  Tapas Restaurant   Theater  Theme Restaurant  \\\n0    0.014086             0.000  0.000000          0.002604   \n1    0.019264             0.000  0.000000          0.000000   \n2    0.010000             0.000  0.000000          0.000000   \n3    0.005000             0.005  0.000000          0.000000   \n4    0.009957             0.000  0.003378          0.003289   \n\n   Trattoria/Osteria  Vegetarian / Vegan Restaurant  Whisky Bar  Wine Bar  \\\n0           0.003378                       0.007166     0.00000  0.015871   \n1           0.000000                       0.000000     0.00844  0.048455   \n2           0.000000                       0.000000     0.00000  0.030000   \n3           0.000000                       0.000000     0.00500  0.100000   \n4           0.000000                       0.003289     0.00000  0.025671   \n\n   Wine Shop    Winery  \n0       0.00  0.003378  \n1       0.00  0.000000  \n2       0.01  0.000000  \n3       0.00  0.000000  \n4       0.00  0.000000  ",
      "text/html": "<div>\n<style scoped>\n    .dataframe tbody tr th:only-of-type {\n        vertical-align: middle;\n    }\n\n    .dataframe tbody tr th {\n        vertical-align: top;\n    }\n\n    .dataframe thead th {\n        text-align: right;\n    }\n</style>\n<table border=\"1\" class=\"dataframe\">\n  <thead>\n    <tr style=\"text-align: right;\">\n      <th></th>\n      <th>Cluster Labels</th>\n      <th>Mietpreis H1 2019 in Euro/m²</th>\n      <th>Verfügbares Einkommen in Euro</th>\n      <th>Size</th>\n      <th>lat</th>\n      <th>long</th>\n      <th>African Restaurant</th>\n      <th>American Restaurant</th>\n      <th>Asian Restaurant</th>\n      <th>Australian Restaurant</th>\n      <th>Bakery</th>\n      <th>Bar</th>\n      <th>Bavarian Restaurant</th>\n      <th>Beach</th>\n      <th>Beach Bar</th>\n      <th>Beer Bar</th>\n      <th>Beer Garden</th>\n      <th>Bistro</th>\n      <th>Bowling Alley</th>\n      <th>Breakfast Spot</th>\n      <th>Brewery</th>\n      <th>Burger Joint</th>\n      <th>Burrito Place</th>\n      <th>Café</th>\n      <th>Cocktail Bar</th>\n      <th>Coffee Shop</th>\n      <th>Comfort Food Restaurant</th>\n      <th>Concert Hall</th>\n      <th>Cuban Restaurant</th>\n      <th>Deli / Bodega</th>\n      <th>Diner</th>\n      <th>Dive Bar</th>\n      <th>Eastern European Restaurant</th>\n      <th>Event Space</th>\n      <th>Fast Food Restaurant</th>\n      <th>Food &amp; Drink Shop</th>\n      <th>Food Court</th>\n      <th>French Restaurant</th>\n      <th>Gastropub</th>\n      <th>Gay Bar</th>\n      <th>General Entertainment</th>\n      <th>German Restaurant</th>\n      <th>Greek Restaurant</th>\n      <th>Hawaiian Restaurant</th>\n      <th>Hookah Bar</th>\n      <th>Hotel</th>\n      <th>Hotel Bar</th>\n      <th>Ice Cream Shop</th>\n      <th>Indie Movie Theater</th>\n      <th>Irish Pub</th>\n      <th>Israeli Restaurant</th>\n      <th>Italian Restaurant</th>\n      <th>Jazz Club</th>\n      <th>Karaoke Bar</th>\n      <th>Lounge</th>\n      <th>Mediterranean Restaurant</th>\n      <th>Mexican Restaurant</th>\n      <th>Middle Eastern Restaurant</th>\n      <th>Modern European Restaurant</th>\n      <th>Museum</th>\n      <th>Music Venue</th>\n      <th>Nightclub</th>\n      <th>Other Nightlife</th>\n      <th>Piano Bar</th>\n      <th>Pizza Place</th>\n      <th>Plaza</th>\n      <th>Polish Restaurant</th>\n      <th>Pub</th>\n      <th>Ramen Restaurant</th>\n      <th>Restaurant</th>\n      <th>Rhenisch Restaurant</th>\n      <th>Rock Club</th>\n      <th>Sake Bar</th>\n      <th>Seafood Restaurant</th>\n      <th>Smoke Shop</th>\n      <th>Spanish Restaurant</th>\n      <th>Speakeasy</th>\n      <th>Sports Bar</th>\n      <th>Tapas Restaurant</th>\n      <th>Theater</th>\n      <th>Theme Restaurant</th>\n      <th>Trattoria/Osteria</th>\n      <th>Vegetarian / Vegan Restaurant</th>\n      <th>Whisky Bar</th>\n      <th>Wine Bar</th>\n      <th>Wine Shop</th>\n      <th>Winery</th>\n    </tr>\n  </thead>\n  <tbody>\n    <tr>\n      <th>0</th>\n      <td>0</td>\n      <td>7.100</td>\n      <td>18.949250</td>\n      <td>5.781562e+05</td>\n      <td>51.340603</td>\n      <td>10.148493</td>\n      <td>0.000000</td>\n      <td>0.003788</td>\n      <td>0.000000</td>\n      <td>0.003788</td>\n      <td>0.003906</td>\n      <td>0.182113</td>\n      <td>0.00</td>\n      <td>0.000000</td>\n      <td>0.000000</td>\n      <td>0.009770</td>\n      <td>0.037607</td>\n      <td>0.005208</td>\n      <td>0.000000</td>\n      <td>0.005983</td>\n      <td>0.031915</td>\n      <td>0.010417</td>\n      <td>0.003788</td>\n      <td>0.046229</td>\n      <td>0.052048</td>\n      <td>0.000000</td>\n      <td>0.003788</td>\n      <td>0.002604</td>\n      <td>0.003906</td>\n      <td>0.00</td>\n      <td>0.003788</td>\n      <td>0.003788</td>\n      <td>0.003378</td>\n      <td>0.003788</td>\n      <td>0.00</td>\n      <td>0.00</td>\n      <td>0.00</td>\n      <td>0.000000</td>\n      <td>0.057839</td>\n      <td>0.007812</td>\n      <td>0.002604</td>\n      <td>0.024704</td>\n      <td>0.014979</td>\n      <td>0.00</td>\n      <td>0.016281</td>\n      <td>0.010417</td>\n      <td>0.009361</td>\n      <td>0.003906</td>\n      <td>0.006757</td>\n      <td>0.005208</td>\n      <td>0.00</td>\n      <td>0.003378</td>\n      <td>0.009770</td>\n      <td>0.002604</td>\n      <td>0.026825</td>\n      <td>0.007576</td>\n      <td>0.010298</td>\n      <td>0.000000</td>\n      <td>0.006757</td>\n      <td>0.003788</td>\n      <td>0.003378</td>\n      <td>0.150079</td>\n      <td>0.007166</td>\n      <td>0.00</td>\n      <td>0.000000</td>\n      <td>0.000</td>\n      <td>0.000000</td>\n      <td>0.099397</td>\n      <td>0.000</td>\n      <td>0.035047</td>\n      <td>0.000000</td>\n      <td>0.002604</td>\n      <td>0.000</td>\n      <td>0.000000</td>\n      <td>0.000000</td>\n      <td>0.00</td>\n      <td>0.003378</td>\n      <td>0.014086</td>\n      <td>0.000</td>\n      <td>0.000000</td>\n      <td>0.002604</td>\n      <td>0.003378</td>\n      <td>0.007166</td>\n      <td>0.00000</td>\n      <td>0.015871</td>\n      <td>0.00</td>\n      <td>0.003378</td>\n    </tr>\n    <tr>\n      <th>1</th>\n      <td>1</td>\n      <td>11.800</td>\n      <td>24.771667</td>\n      <td>1.031768e+06</td>\n      <td>51.182538</td>\n      <td>8.655413</td>\n      <td>0.003745</td>\n      <td>0.000000</td>\n      <td>0.003333</td>\n      <td>0.000000</td>\n      <td>0.000000</td>\n      <td>0.205939</td>\n      <td>0.00</td>\n      <td>0.000000</td>\n      <td>0.016468</td>\n      <td>0.008028</td>\n      <td>0.047579</td>\n      <td>0.003333</td>\n      <td>0.000000</td>\n      <td>0.000000</td>\n      <td>0.049802</td>\n      <td>0.008028</td>\n      <td>0.000000</td>\n      <td>0.049817</td>\n      <td>0.120583</td>\n      <td>0.003333</td>\n      <td>0.004695</td>\n      <td>0.003333</td>\n      <td>0.000000</td>\n      <td>0.00</td>\n      <td>0.000000</td>\n      <td>0.003333</td>\n      <td>0.000000</td>\n      <td>0.003745</td>\n      <td>0.00</td>\n      <td>0.00</td>\n      <td>0.00</td>\n      <td>0.017079</td>\n      <td>0.057506</td>\n      <td>0.003745</td>\n      <td>0.000000</td>\n      <td>0.041038</td>\n      <td>0.000000</td>\n      <td>0.00</td>\n      <td>0.007491</td>\n      <td>0.003745</td>\n      <td>0.012185</td>\n      <td>0.000000</td>\n      <td>0.000000</td>\n      <td>0.000000</td>\n      <td>0.00</td>\n      <td>0.000000</td>\n      <td>0.003745</td>\n      <td>0.000000</td>\n      <td>0.030500</td>\n      <td>0.000000</td>\n      <td>0.000000</td>\n      <td>0.003333</td>\n      <td>0.000000</td>\n      <td>0.000000</td>\n      <td>0.000000</td>\n      <td>0.075210</td>\n      <td>0.000000</td>\n      <td>0.00</td>\n      <td>0.000000</td>\n      <td>0.000</td>\n      <td>0.000000</td>\n      <td>0.085873</td>\n      <td>0.000</td>\n      <td>0.033547</td>\n      <td>0.003333</td>\n      <td>0.003745</td>\n      <td>0.000</td>\n      <td>0.003333</td>\n      <td>0.003333</td>\n      <td>0.00</td>\n      <td>0.000000</td>\n      <td>0.019264</td>\n      <td>0.000</td>\n      <td>0.000000</td>\n      <td>0.000000</td>\n      <td>0.000000</td>\n      <td>0.000000</td>\n      <td>0.00844</td>\n      <td>0.048455</td>\n      <td>0.00</td>\n      <td>0.000000</td>\n    </tr>\n    <tr>\n      <th>2</th>\n      <td>2</td>\n      <td>18.600</td>\n      <td>29.685000</td>\n      <td>1.471508e+06</td>\n      <td>48.137108</td>\n      <td>11.575382</td>\n      <td>0.000000</td>\n      <td>0.000000</td>\n      <td>0.000000</td>\n      <td>0.000000</td>\n      <td>0.000000</td>\n      <td>0.240000</td>\n      <td>0.05</td>\n      <td>0.000000</td>\n      <td>0.000000</td>\n      <td>0.020000</td>\n      <td>0.070000</td>\n      <td>0.000000</td>\n      <td>0.000000</td>\n      <td>0.000000</td>\n      <td>0.020000</td>\n      <td>0.000000</td>\n      <td>0.000000</td>\n      <td>0.090000</td>\n      <td>0.160000</td>\n      <td>0.010000</td>\n      <td>0.000000</td>\n      <td>0.000000</td>\n      <td>0.000000</td>\n      <td>0.01</td>\n      <td>0.000000</td>\n      <td>0.000000</td>\n      <td>0.000000</td>\n      <td>0.000000</td>\n      <td>0.01</td>\n      <td>0.01</td>\n      <td>0.01</td>\n      <td>0.000000</td>\n      <td>0.030000</td>\n      <td>0.010000</td>\n      <td>0.000000</td>\n      <td>0.050000</td>\n      <td>0.000000</td>\n      <td>0.01</td>\n      <td>0.000000</td>\n      <td>0.000000</td>\n      <td>0.030000</td>\n      <td>0.000000</td>\n      <td>0.000000</td>\n      <td>0.000000</td>\n      <td>0.00</td>\n      <td>0.020000</td>\n      <td>0.000000</td>\n      <td>0.000000</td>\n      <td>0.010000</td>\n      <td>0.000000</td>\n      <td>0.000000</td>\n      <td>0.000000</td>\n      <td>0.000000</td>\n      <td>0.000000</td>\n      <td>0.010000</td>\n      <td>0.020000</td>\n      <td>0.000000</td>\n      <td>0.00</td>\n      <td>0.000000</td>\n      <td>0.000</td>\n      <td>0.000000</td>\n      <td>0.040000</td>\n      <td>0.000</td>\n      <td>0.000000</td>\n      <td>0.000000</td>\n      <td>0.000000</td>\n      <td>0.000</td>\n      <td>0.000000</td>\n      <td>0.000000</td>\n      <td>0.01</td>\n      <td>0.010000</td>\n      <td>0.010000</td>\n      <td>0.000</td>\n      <td>0.000000</td>\n      <td>0.000000</td>\n      <td>0.000000</td>\n      <td>0.000000</td>\n      <td>0.00000</td>\n      <td>0.030000</td>\n      <td>0.01</td>\n      <td>0.000000</td>\n    </tr>\n    <tr>\n      <th>3</th>\n      <td>3</td>\n      <td>12.900</td>\n      <td>20.704500</td>\n      <td>2.198941e+06</td>\n      <td>51.313840</td>\n      <td>11.035476</td>\n      <td>0.000000</td>\n      <td>0.000000</td>\n      <td>0.000000</td>\n      <td>0.000000</td>\n      <td>0.000000</td>\n      <td>0.255000</td>\n      <td>0.00</td>\n      <td>0.000000</td>\n      <td>0.010000</td>\n      <td>0.030000</td>\n      <td>0.035000</td>\n      <td>0.000000</td>\n      <td>0.000000</td>\n      <td>0.005000</td>\n      <td>0.030000</td>\n      <td>0.010000</td>\n      <td>0.000000</td>\n      <td>0.015000</td>\n      <td>0.115000</td>\n      <td>0.000000</td>\n      <td>0.000000</td>\n      <td>0.000000</td>\n      <td>0.000000</td>\n      <td>0.00</td>\n      <td>0.000000</td>\n      <td>0.010000</td>\n      <td>0.005000</td>\n      <td>0.000000</td>\n      <td>0.00</td>\n      <td>0.00</td>\n      <td>0.00</td>\n      <td>0.005000</td>\n      <td>0.055000</td>\n      <td>0.010000</td>\n      <td>0.000000</td>\n      <td>0.015000</td>\n      <td>0.000000</td>\n      <td>0.00</td>\n      <td>0.005000</td>\n      <td>0.000000</td>\n      <td>0.030000</td>\n      <td>0.000000</td>\n      <td>0.000000</td>\n      <td>0.010000</td>\n      <td>0.01</td>\n      <td>0.010000</td>\n      <td>0.000000</td>\n      <td>0.010000</td>\n      <td>0.035000</td>\n      <td>0.000000</td>\n      <td>0.000000</td>\n      <td>0.000000</td>\n      <td>0.000000</td>\n      <td>0.000000</td>\n      <td>0.000000</td>\n      <td>0.055000</td>\n      <td>0.000000</td>\n      <td>0.01</td>\n      <td>0.000000</td>\n      <td>0.005</td>\n      <td>0.000000</td>\n      <td>0.045000</td>\n      <td>0.005</td>\n      <td>0.025000</td>\n      <td>0.000000</td>\n      <td>0.000000</td>\n      <td>0.005</td>\n      <td>0.005000</td>\n      <td>0.000000</td>\n      <td>0.00</td>\n      <td>0.015000</td>\n      <td>0.005000</td>\n      <td>0.005</td>\n      <td>0.000000</td>\n      <td>0.000000</td>\n      <td>0.000000</td>\n      <td>0.000000</td>\n      <td>0.00500</td>\n      <td>0.100000</td>\n      <td>0.00</td>\n      <td>0.000000</td>\n    </tr>\n    <tr>\n      <th>4</th>\n      <td>4</td>\n      <td>9.475</td>\n      <td>21.424250</td>\n      <td>6.778622e+05</td>\n      <td>51.460633</td>\n      <td>9.145747</td>\n      <td>0.000000</td>\n      <td>0.000000</td>\n      <td>0.000000</td>\n      <td>0.000000</td>\n      <td>0.000000</td>\n      <td>0.209848</td>\n      <td>0.00</td>\n      <td>0.003968</td>\n      <td>0.006757</td>\n      <td>0.011657</td>\n      <td>0.065180</td>\n      <td>0.003378</td>\n      <td>0.003378</td>\n      <td>0.000000</td>\n      <td>0.060608</td>\n      <td>0.007689</td>\n      <td>0.000000</td>\n      <td>0.045176</td>\n      <td>0.098025</td>\n      <td>0.003378</td>\n      <td>0.000000</td>\n      <td>0.004310</td>\n      <td>0.000000</td>\n      <td>0.00</td>\n      <td>0.000000</td>\n      <td>0.004310</td>\n      <td>0.000000</td>\n      <td>0.004310</td>\n      <td>0.00</td>\n      <td>0.00</td>\n      <td>0.00</td>\n      <td>0.004310</td>\n      <td>0.051076</td>\n      <td>0.003289</td>\n      <td>0.000000</td>\n      <td>0.025836</td>\n      <td>0.003968</td>\n      <td>0.00</td>\n      <td>0.028619</td>\n      <td>0.000000</td>\n      <td>0.015283</td>\n      <td>0.000000</td>\n      <td>0.004310</td>\n      <td>0.003378</td>\n      <td>0.00</td>\n      <td>0.015289</td>\n      <td>0.000000</td>\n      <td>0.000000</td>\n      <td>0.048471</td>\n      <td>0.003289</td>\n      <td>0.003289</td>\n      <td>0.000000</td>\n      <td>0.003968</td>\n      <td>0.000000</td>\n      <td>0.000000</td>\n      <td>0.077610</td>\n      <td>0.000000</td>\n      <td>0.00</td>\n      <td>0.003289</td>\n      <td>0.000</td>\n      <td>0.003968</td>\n      <td>0.094666</td>\n      <td>0.000</td>\n      <td>0.021272</td>\n      <td>0.003289</td>\n      <td>0.000000</td>\n      <td>0.000</td>\n      <td>0.000000</td>\n      <td>0.000000</td>\n      <td>0.00</td>\n      <td>0.003968</td>\n      <td>0.009957</td>\n      <td>0.000</td>\n      <td>0.003378</td>\n      <td>0.003289</td>\n      <td>0.000000</td>\n      <td>0.003289</td>\n      <td>0.00000</td>\n      <td>0.025671</td>\n      <td>0.00</td>\n      <td>0.000000</td>\n    </tr>\n  </tbody>\n</table>\n</div>"
     },
     "metadata": {},
     "execution_count": 96
    }
   ],
   "source": [
    "# Show average rental price (Mietpreis); Average Income (\"Einkommen\") and relative frequency of each nighlife spot per Cluster\n",
    "df_mean = df_cities.groupby(\"Cluster Labels\", as_index=False).mean()\n",
    "df_mean.head()"
   ]
  },
  {
   "cell_type": "markdown",
   "metadata": {},
   "source": [
    "<h2> Inspection of all clusters focussing on the 10 most common nightlife venues"
   ]
  },
  {
   "cell_type": "code",
   "execution_count": 97,
   "metadata": {},
   "outputs": [],
   "source": [
    "num_top_venues = 10\n",
    "\n",
    "indicators = ['st', 'nd', 'rd']\n",
    "\n",
    "# create columns according to number of top venues\n",
    "columns = ['Cluster Labels']\n",
    "for ind in np.arange(num_top_venues):\n",
    "    try:\n",
    "        columns.append('{}{} Most Common Venue'.format(ind+1, indicators[ind]))\n",
    "    except:\n",
    "        columns.append('{}th Most Common Venue'.format(ind+1))\n",
    "\n",
    "# create a new dataframe\n",
    "neighbourhoods_venues_sorted = pd.DataFrame(columns=columns)\n",
    "neighbourhoods_venues_sorted['Cluster Labels'] = df_mean['Cluster Labels']\n",
    "\n",
    "for ind in np.arange(df_mean.shape[0]):\n",
    "    neighbourhoods_venues_sorted.iloc[ind, 1:] = return_most_common_venues(df_mean.iloc[ind, :], num_top_venues)"
   ]
  },
  {
   "cell_type": "code",
   "execution_count": 98,
   "metadata": {},
   "outputs": [],
   "source": [
    "df_ov = pd.merge(df_cities[['Stadt','Cluster Labels','Size','Verfügbares Einkommen in Euro','Mietpreis H1 2019 in Euro/m²']], neighbourhoods_venues_sorted, on='Cluster Labels')"
   ]
  },
  {
   "cell_type": "markdown",
   "metadata": {},
   "source": [
    "<h3> <br> Cluster 1 The down to earth-Cities"
   ]
  },
  {
   "cell_type": "code",
   "execution_count": 99,
   "metadata": {},
   "outputs": [
    {
     "output_type": "execute_result",
     "data": {
      "text/plain": "       Stadt  Cluster Labels    Size  Verfügbares Einkommen in Euro  \\\n10   Leipzig               0  587857                         17.770   \n11   Dresden               0  554649                         18.922   \n12  Dortmund               0  587010                         18.946   \n13     Essen               0  583109                         20.159   \n\n    Mietpreis H1 2019 in Euro/m² 1st Most Common Venue 2nd Most Common Venue  \\\n10                           6.8                   Bar             Nightclub   \n11                           7.6                   Bar             Nightclub   \n12                           7.0                   Bar             Nightclub   \n13                           7.0                   Bar             Nightclub   \n\n   3rd Most Common Venue 4th Most Common Venue 5th Most Common Venue  \\\n10                   Pub             Gastropub          Cocktail Bar   \n11                   Pub             Gastropub          Cocktail Bar   \n12                   Pub             Gastropub          Cocktail Bar   \n13                   Pub             Gastropub          Cocktail Bar   \n\n   6th Most Common Venue 7th Most Common Venue 8th Most Common Venue  \\\n10                  Café           Beer Garden            Restaurant   \n11                  Café           Beer Garden            Restaurant   \n12                  Café           Beer Garden            Restaurant   \n13                  Café           Beer Garden            Restaurant   \n\n   9th Most Common Venue 10th Most Common Venue  \n10               Brewery                 Lounge  \n11               Brewery                 Lounge  \n12               Brewery                 Lounge  \n13               Brewery                 Lounge  ",
      "text/html": "<div>\n<style scoped>\n    .dataframe tbody tr th:only-of-type {\n        vertical-align: middle;\n    }\n\n    .dataframe tbody tr th {\n        vertical-align: top;\n    }\n\n    .dataframe thead th {\n        text-align: right;\n    }\n</style>\n<table border=\"1\" class=\"dataframe\">\n  <thead>\n    <tr style=\"text-align: right;\">\n      <th></th>\n      <th>Stadt</th>\n      <th>Cluster Labels</th>\n      <th>Size</th>\n      <th>Verfügbares Einkommen in Euro</th>\n      <th>Mietpreis H1 2019 in Euro/m²</th>\n      <th>1st Most Common Venue</th>\n      <th>2nd Most Common Venue</th>\n      <th>3rd Most Common Venue</th>\n      <th>4th Most Common Venue</th>\n      <th>5th Most Common Venue</th>\n      <th>6th Most Common Venue</th>\n      <th>7th Most Common Venue</th>\n      <th>8th Most Common Venue</th>\n      <th>9th Most Common Venue</th>\n      <th>10th Most Common Venue</th>\n    </tr>\n  </thead>\n  <tbody>\n    <tr>\n      <th>10</th>\n      <td>Leipzig</td>\n      <td>0</td>\n      <td>587857</td>\n      <td>17.770</td>\n      <td>6.8</td>\n      <td>Bar</td>\n      <td>Nightclub</td>\n      <td>Pub</td>\n      <td>Gastropub</td>\n      <td>Cocktail Bar</td>\n      <td>Café</td>\n      <td>Beer Garden</td>\n      <td>Restaurant</td>\n      <td>Brewery</td>\n      <td>Lounge</td>\n    </tr>\n    <tr>\n      <th>11</th>\n      <td>Dresden</td>\n      <td>0</td>\n      <td>554649</td>\n      <td>18.922</td>\n      <td>7.6</td>\n      <td>Bar</td>\n      <td>Nightclub</td>\n      <td>Pub</td>\n      <td>Gastropub</td>\n      <td>Cocktail Bar</td>\n      <td>Café</td>\n      <td>Beer Garden</td>\n      <td>Restaurant</td>\n      <td>Brewery</td>\n      <td>Lounge</td>\n    </tr>\n    <tr>\n      <th>12</th>\n      <td>Dortmund</td>\n      <td>0</td>\n      <td>587010</td>\n      <td>18.946</td>\n      <td>7.0</td>\n      <td>Bar</td>\n      <td>Nightclub</td>\n      <td>Pub</td>\n      <td>Gastropub</td>\n      <td>Cocktail Bar</td>\n      <td>Café</td>\n      <td>Beer Garden</td>\n      <td>Restaurant</td>\n      <td>Brewery</td>\n      <td>Lounge</td>\n    </tr>\n    <tr>\n      <th>13</th>\n      <td>Essen</td>\n      <td>0</td>\n      <td>583109</td>\n      <td>20.159</td>\n      <td>7.0</td>\n      <td>Bar</td>\n      <td>Nightclub</td>\n      <td>Pub</td>\n      <td>Gastropub</td>\n      <td>Cocktail Bar</td>\n      <td>Café</td>\n      <td>Beer Garden</td>\n      <td>Restaurant</td>\n      <td>Brewery</td>\n      <td>Lounge</td>\n    </tr>\n  </tbody>\n</table>\n</div>"
     },
     "metadata": {},
     "execution_count": 99
    }
   ],
   "source": [
    "df_ov.loc[df_ov['Cluster Labels'] == 0]"
   ]
  },
  {
   "cell_type": "markdown",
   "metadata": {},
   "source": [
    "<h3> Cluster 2 The Fancy ones"
   ]
  },
  {
   "cell_type": "code",
   "execution_count": 100,
   "metadata": {},
   "outputs": [
    {
     "output_type": "execute_result",
     "data": {
      "text/plain": "        Stadt  Cluster Labels     Size  Verfügbares Einkommen in Euro  \\\n7   Stuttgart               1   634830                         25.012   \n8     Hamburg               1  1841179                         24.421   \n9  Düsseldorf               1   619294                         24.882   \n\n   Mietpreis H1 2019 in Euro/m² 1st Most Common Venue 2nd Most Common Venue  \\\n7                          13.0                   Bar          Cocktail Bar   \n8                          11.8                   Bar          Cocktail Bar   \n9                          10.6                   Bar          Cocktail Bar   \n\n  3rd Most Common Venue 4th Most Common Venue 5th Most Common Venue  \\\n7                   Pub             Nightclub             Gastropub   \n8                   Pub             Nightclub             Gastropub   \n9                   Pub             Nightclub             Gastropub   \n\n  6th Most Common Venue 7th Most Common Venue 8th Most Common Venue  \\\n7                  Café               Brewery              Wine Bar   \n8                  Café               Brewery              Wine Bar   \n9                  Café               Brewery              Wine Bar   \n\n  9th Most Common Venue 10th Most Common Venue  \n7           Beer Garden      German Restaurant  \n8           Beer Garden      German Restaurant  \n9           Beer Garden      German Restaurant  ",
      "text/html": "<div>\n<style scoped>\n    .dataframe tbody tr th:only-of-type {\n        vertical-align: middle;\n    }\n\n    .dataframe tbody tr th {\n        vertical-align: top;\n    }\n\n    .dataframe thead th {\n        text-align: right;\n    }\n</style>\n<table border=\"1\" class=\"dataframe\">\n  <thead>\n    <tr style=\"text-align: right;\">\n      <th></th>\n      <th>Stadt</th>\n      <th>Cluster Labels</th>\n      <th>Size</th>\n      <th>Verfügbares Einkommen in Euro</th>\n      <th>Mietpreis H1 2019 in Euro/m²</th>\n      <th>1st Most Common Venue</th>\n      <th>2nd Most Common Venue</th>\n      <th>3rd Most Common Venue</th>\n      <th>4th Most Common Venue</th>\n      <th>5th Most Common Venue</th>\n      <th>6th Most Common Venue</th>\n      <th>7th Most Common Venue</th>\n      <th>8th Most Common Venue</th>\n      <th>9th Most Common Venue</th>\n      <th>10th Most Common Venue</th>\n    </tr>\n  </thead>\n  <tbody>\n    <tr>\n      <th>7</th>\n      <td>Stuttgart</td>\n      <td>1</td>\n      <td>634830</td>\n      <td>25.012</td>\n      <td>13.0</td>\n      <td>Bar</td>\n      <td>Cocktail Bar</td>\n      <td>Pub</td>\n      <td>Nightclub</td>\n      <td>Gastropub</td>\n      <td>Café</td>\n      <td>Brewery</td>\n      <td>Wine Bar</td>\n      <td>Beer Garden</td>\n      <td>German Restaurant</td>\n    </tr>\n    <tr>\n      <th>8</th>\n      <td>Hamburg</td>\n      <td>1</td>\n      <td>1841179</td>\n      <td>24.421</td>\n      <td>11.8</td>\n      <td>Bar</td>\n      <td>Cocktail Bar</td>\n      <td>Pub</td>\n      <td>Nightclub</td>\n      <td>Gastropub</td>\n      <td>Café</td>\n      <td>Brewery</td>\n      <td>Wine Bar</td>\n      <td>Beer Garden</td>\n      <td>German Restaurant</td>\n    </tr>\n    <tr>\n      <th>9</th>\n      <td>Düsseldorf</td>\n      <td>1</td>\n      <td>619294</td>\n      <td>24.882</td>\n      <td>10.6</td>\n      <td>Bar</td>\n      <td>Cocktail Bar</td>\n      <td>Pub</td>\n      <td>Nightclub</td>\n      <td>Gastropub</td>\n      <td>Café</td>\n      <td>Brewery</td>\n      <td>Wine Bar</td>\n      <td>Beer Garden</td>\n      <td>German Restaurant</td>\n    </tr>\n  </tbody>\n</table>\n</div>"
     },
     "metadata": {},
     "execution_count": 100
    }
   ],
   "source": [
    "df_ov.loc[df_ov['Cluster Labels'] == 1]"
   ]
  },
  {
   "cell_type": "markdown",
   "metadata": {},
   "source": [
    "<h3> Cluster 3 Well... Munich"
   ]
  },
  {
   "cell_type": "code",
   "execution_count": 101,
   "metadata": {},
   "outputs": [
    {
     "output_type": "execute_result",
     "data": {
      "text/plain": "     Stadt  Cluster Labels     Size  Verfügbares Einkommen in Euro  \\\n2  München               2  1471508                         29.685   \n\n   Mietpreis H1 2019 in Euro/m² 1st Most Common Venue 2nd Most Common Venue  \\\n2                          18.6                   Bar          Cocktail Bar   \n\n  3rd Most Common Venue 4th Most Common Venue 5th Most Common Venue  \\\n2                  Café           Beer Garden   Bavarian Restaurant   \n\n  6th Most Common Venue 7th Most Common Venue 8th Most Common Venue  \\\n2     German Restaurant                   Pub             Hotel Bar   \n\n  9th Most Common Venue 10th Most Common Venue  \n2              Wine Bar              Gastropub  ",
      "text/html": "<div>\n<style scoped>\n    .dataframe tbody tr th:only-of-type {\n        vertical-align: middle;\n    }\n\n    .dataframe tbody tr th {\n        vertical-align: top;\n    }\n\n    .dataframe thead th {\n        text-align: right;\n    }\n</style>\n<table border=\"1\" class=\"dataframe\">\n  <thead>\n    <tr style=\"text-align: right;\">\n      <th></th>\n      <th>Stadt</th>\n      <th>Cluster Labels</th>\n      <th>Size</th>\n      <th>Verfügbares Einkommen in Euro</th>\n      <th>Mietpreis H1 2019 in Euro/m²</th>\n      <th>1st Most Common Venue</th>\n      <th>2nd Most Common Venue</th>\n      <th>3rd Most Common Venue</th>\n      <th>4th Most Common Venue</th>\n      <th>5th Most Common Venue</th>\n      <th>6th Most Common Venue</th>\n      <th>7th Most Common Venue</th>\n      <th>8th Most Common Venue</th>\n      <th>9th Most Common Venue</th>\n      <th>10th Most Common Venue</th>\n    </tr>\n  </thead>\n  <tbody>\n    <tr>\n      <th>2</th>\n      <td>München</td>\n      <td>2</td>\n      <td>1471508</td>\n      <td>29.685</td>\n      <td>18.6</td>\n      <td>Bar</td>\n      <td>Cocktail Bar</td>\n      <td>Café</td>\n      <td>Beer Garden</td>\n      <td>Bavarian Restaurant</td>\n      <td>German Restaurant</td>\n      <td>Pub</td>\n      <td>Hotel Bar</td>\n      <td>Wine Bar</td>\n      <td>Gastropub</td>\n    </tr>\n  </tbody>\n</table>\n</div>"
     },
     "metadata": {},
     "execution_count": 101
    }
   ],
   "source": [
    "df_ov.loc[df_ov['Cluster Labels'] == 2]"
   ]
  },
  {
   "cell_type": "markdown",
   "metadata": {},
   "source": [
    "<h3> Cluster 4 The Cosmopolitans"
   ]
  },
  {
   "cell_type": "code",
   "execution_count": 102,
   "metadata": {},
   "outputs": [
    {
     "output_type": "execute_result",
     "data": {
      "text/plain": "               Stadt  Cluster Labels     Size  Verfügbares Einkommen in Euro  \\\n0             Berlin               3  3644826                         19.719   \n1  Frankfurt am Main               3   753056                         21.690   \n\n   Mietpreis H1 2019 in Euro/m² 1st Most Common Venue 2nd Most Common Venue  \\\n0                          11.6                   Bar          Cocktail Bar   \n1                          14.2                   Bar          Cocktail Bar   \n\n  3rd Most Common Venue 4th Most Common Venue 5th Most Common Venue  \\\n0              Wine Bar             Gastropub             Nightclub   \n1              Wine Bar             Gastropub             Nightclub   \n\n  6th Most Common Venue 7th Most Common Venue 8th Most Common Venue  \\\n0                   Pub                Lounge           Beer Garden   \n1                   Pub                Lounge           Beer Garden   \n\n  9th Most Common Venue 10th Most Common Venue  \n0              Beer Bar              Hotel Bar  \n1              Beer Bar              Hotel Bar  ",
      "text/html": "<div>\n<style scoped>\n    .dataframe tbody tr th:only-of-type {\n        vertical-align: middle;\n    }\n\n    .dataframe tbody tr th {\n        vertical-align: top;\n    }\n\n    .dataframe thead th {\n        text-align: right;\n    }\n</style>\n<table border=\"1\" class=\"dataframe\">\n  <thead>\n    <tr style=\"text-align: right;\">\n      <th></th>\n      <th>Stadt</th>\n      <th>Cluster Labels</th>\n      <th>Size</th>\n      <th>Verfügbares Einkommen in Euro</th>\n      <th>Mietpreis H1 2019 in Euro/m²</th>\n      <th>1st Most Common Venue</th>\n      <th>2nd Most Common Venue</th>\n      <th>3rd Most Common Venue</th>\n      <th>4th Most Common Venue</th>\n      <th>5th Most Common Venue</th>\n      <th>6th Most Common Venue</th>\n      <th>7th Most Common Venue</th>\n      <th>8th Most Common Venue</th>\n      <th>9th Most Common Venue</th>\n      <th>10th Most Common Venue</th>\n    </tr>\n  </thead>\n  <tbody>\n    <tr>\n      <th>0</th>\n      <td>Berlin</td>\n      <td>3</td>\n      <td>3644826</td>\n      <td>19.719</td>\n      <td>11.6</td>\n      <td>Bar</td>\n      <td>Cocktail Bar</td>\n      <td>Wine Bar</td>\n      <td>Gastropub</td>\n      <td>Nightclub</td>\n      <td>Pub</td>\n      <td>Lounge</td>\n      <td>Beer Garden</td>\n      <td>Beer Bar</td>\n      <td>Hotel Bar</td>\n    </tr>\n    <tr>\n      <th>1</th>\n      <td>Frankfurt am Main</td>\n      <td>3</td>\n      <td>753056</td>\n      <td>21.690</td>\n      <td>14.2</td>\n      <td>Bar</td>\n      <td>Cocktail Bar</td>\n      <td>Wine Bar</td>\n      <td>Gastropub</td>\n      <td>Nightclub</td>\n      <td>Pub</td>\n      <td>Lounge</td>\n      <td>Beer Garden</td>\n      <td>Beer Bar</td>\n      <td>Hotel Bar</td>\n    </tr>\n  </tbody>\n</table>\n</div>"
     },
     "metadata": {},
     "execution_count": 102
    }
   ],
   "source": [
    "df_ov.loc[df_ov['Cluster Labels'] == 3]"
   ]
  },
  {
   "cell_type": "markdown",
   "metadata": {},
   "source": [
    "<h3> Cluster 5 The normal ones"
   ]
  },
  {
   "cell_type": "code",
   "execution_count": 103,
   "metadata": {},
   "outputs": [
    {
     "output_type": "execute_result",
     "data": {
      "text/plain": "      Stadt  Cluster Labels     Size  Verfügbares Einkommen in Euro  \\\n3  Nürnberg               4   518365                         21.785   \n4  Hannover               4   538068                         20.977   \n5      Köln               4  1085664                         21.608   \n6    Bremen               4   569352                         21.327   \n\n   Mietpreis H1 2019 in Euro/m² 1st Most Common Venue 2nd Most Common Venue  \\\n3                          10.0                   Bar          Cocktail Bar   \n4                           8.8                   Bar          Cocktail Bar   \n5                          10.9                   Bar          Cocktail Bar   \n6                           8.2                   Bar          Cocktail Bar   \n\n  3rd Most Common Venue 4th Most Common Venue 5th Most Common Venue  \\\n3                   Pub             Nightclub           Beer Garden   \n4                   Pub             Nightclub           Beer Garden   \n5                   Pub             Nightclub           Beer Garden   \n6                   Pub             Nightclub           Beer Garden   \n\n  6th Most Common Venue 7th Most Common Venue 8th Most Common Venue  \\\n3               Brewery             Gastropub                Lounge   \n4               Brewery             Gastropub                Lounge   \n5               Brewery             Gastropub                Lounge   \n6               Brewery             Gastropub                Lounge   \n\n  9th Most Common Venue 10th Most Common Venue  \n3                  Café             Hookah Bar  \n4                  Café             Hookah Bar  \n5                  Café             Hookah Bar  \n6                  Café             Hookah Bar  ",
      "text/html": "<div>\n<style scoped>\n    .dataframe tbody tr th:only-of-type {\n        vertical-align: middle;\n    }\n\n    .dataframe tbody tr th {\n        vertical-align: top;\n    }\n\n    .dataframe thead th {\n        text-align: right;\n    }\n</style>\n<table border=\"1\" class=\"dataframe\">\n  <thead>\n    <tr style=\"text-align: right;\">\n      <th></th>\n      <th>Stadt</th>\n      <th>Cluster Labels</th>\n      <th>Size</th>\n      <th>Verfügbares Einkommen in Euro</th>\n      <th>Mietpreis H1 2019 in Euro/m²</th>\n      <th>1st Most Common Venue</th>\n      <th>2nd Most Common Venue</th>\n      <th>3rd Most Common Venue</th>\n      <th>4th Most Common Venue</th>\n      <th>5th Most Common Venue</th>\n      <th>6th Most Common Venue</th>\n      <th>7th Most Common Venue</th>\n      <th>8th Most Common Venue</th>\n      <th>9th Most Common Venue</th>\n      <th>10th Most Common Venue</th>\n    </tr>\n  </thead>\n  <tbody>\n    <tr>\n      <th>3</th>\n      <td>Nürnberg</td>\n      <td>4</td>\n      <td>518365</td>\n      <td>21.785</td>\n      <td>10.0</td>\n      <td>Bar</td>\n      <td>Cocktail Bar</td>\n      <td>Pub</td>\n      <td>Nightclub</td>\n      <td>Beer Garden</td>\n      <td>Brewery</td>\n      <td>Gastropub</td>\n      <td>Lounge</td>\n      <td>Café</td>\n      <td>Hookah Bar</td>\n    </tr>\n    <tr>\n      <th>4</th>\n      <td>Hannover</td>\n      <td>4</td>\n      <td>538068</td>\n      <td>20.977</td>\n      <td>8.8</td>\n      <td>Bar</td>\n      <td>Cocktail Bar</td>\n      <td>Pub</td>\n      <td>Nightclub</td>\n      <td>Beer Garden</td>\n      <td>Brewery</td>\n      <td>Gastropub</td>\n      <td>Lounge</td>\n      <td>Café</td>\n      <td>Hookah Bar</td>\n    </tr>\n    <tr>\n      <th>5</th>\n      <td>Köln</td>\n      <td>4</td>\n      <td>1085664</td>\n      <td>21.608</td>\n      <td>10.9</td>\n      <td>Bar</td>\n      <td>Cocktail Bar</td>\n      <td>Pub</td>\n      <td>Nightclub</td>\n      <td>Beer Garden</td>\n      <td>Brewery</td>\n      <td>Gastropub</td>\n      <td>Lounge</td>\n      <td>Café</td>\n      <td>Hookah Bar</td>\n    </tr>\n    <tr>\n      <th>6</th>\n      <td>Bremen</td>\n      <td>4</td>\n      <td>569352</td>\n      <td>21.327</td>\n      <td>8.2</td>\n      <td>Bar</td>\n      <td>Cocktail Bar</td>\n      <td>Pub</td>\n      <td>Nightclub</td>\n      <td>Beer Garden</td>\n      <td>Brewery</td>\n      <td>Gastropub</td>\n      <td>Lounge</td>\n      <td>Café</td>\n      <td>Hookah Bar</td>\n    </tr>\n  </tbody>\n</table>\n</div>"
     },
     "metadata": {},
     "execution_count": 103
    }
   ],
   "source": [
    "df_ov.loc[df_ov['Cluster Labels'] == 4]"
   ]
  }
 ],
 "metadata": {
  "language_info": {
   "codemirror_mode": {
    "name": "ipython",
    "version": 3
   },
   "file_extension": ".py",
   "mimetype": "text/x-python",
   "name": "python",
   "nbconvert_exporter": "python",
   "pygments_lexer": "ipython3",
   "version": "3.7.7-final"
  },
  "orig_nbformat": 2,
  "kernelspec": {
   "name": "python37764bit157e119aa9f24055a80f399eaccad5b4",
   "display_name": "Python 3.7.7 64-bit"
  }
 },
 "nbformat": 4,
 "nbformat_minor": 2
}